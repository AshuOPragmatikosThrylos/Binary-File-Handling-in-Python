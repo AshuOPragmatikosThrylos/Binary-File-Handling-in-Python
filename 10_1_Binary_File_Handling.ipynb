{
 "cells": [
  {
   "cell_type": "code",
   "execution_count": 20,
   "metadata": {},
   "outputs": [],
   "source": [
    "import os.path\n",
    "class ImageCopy(object):\n",
    "              \n",
    "    def copy(self,source_path,dest_path):\n",
    "        try:\n",
    "            \n",
    "            if os.path.exists(source_path):\n",
    "                \n",
    "                with open(source_path,'rb') as f:\n",
    "                data = f.read()\n",
    "                if os.path.exists(dest_path):\n",
    "                    with open(dest_path+\"\\\\download.jpg\",'wb') as f:\n",
    "                    f.write(data)\n",
    "                    return True\n",
    "                else:\n",
    "                    return False\n",
    "                \n",
    "            else:\n",
    "                return False          \n",
    "        except:\n",
    "            return False"
   ]
  },
  {
   "cell_type": "code",
   "execution_count": 21,
   "metadata": {},
   "outputs": [],
   "source": [
    "def main():\n",
    "    source_path = input(\"Enter the path of the file to be copied: \")\n",
    "    dest_path = input(\"Enter the path of the destination: \")\n",
    "    db = ImageCopy()\n",
    "    db.copy(source_path,dest_path)\n",
    "    if db.copy(source_path,dest_path):\n",
    "        print(\"File successfully copied to destination folder\")\n",
    "    else:\n",
    "        print(\"Oops!!Something went wrong\\nCopy Unsuccessful\")"
   ]
  },
  {
   "cell_type": "code",
   "execution_count": 23,
   "metadata": {},
   "outputs": [
    {
     "name": "stdout",
     "output_type": "stream",
     "text": [
      "Enter the path of the file to be copied: C:\\Users\\Ashutosh\\Desktop\\LCO Winter Bootcamp\\day10\\download.jpg\n",
      "Enter the path of the destination: C:\\Users\\Ashutosh\\Desktop\\Copied_image \n",
      "Oops!!Something went wrong\n",
      "Copy Unsuccessful\n"
     ]
    }
   ],
   "source": [
    "main()"
   ]
  }
 ],
 "metadata": {
  "kernelspec": {
   "display_name": "Python 3",
   "language": "python",
   "name": "python3"
  },
  "language_info": {
   "codemirror_mode": {
    "name": "ipython",
    "version": 3
   },
   "file_extension": ".py",
   "mimetype": "text/x-python",
   "name": "python",
   "nbconvert_exporter": "python",
   "pygments_lexer": "ipython3",
   "version": "3.7.6"
  }
 },
 "nbformat": 4,
 "nbformat_minor": 2
}
